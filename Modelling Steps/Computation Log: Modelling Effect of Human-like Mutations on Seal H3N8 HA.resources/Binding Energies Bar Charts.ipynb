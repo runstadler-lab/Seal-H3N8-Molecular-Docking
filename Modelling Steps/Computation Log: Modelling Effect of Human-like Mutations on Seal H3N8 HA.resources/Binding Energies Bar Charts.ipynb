{
 "metadata": {
  "name": "",
  "signature": "sha256:a360ec89604e77e9b1d64c99e50b85c0b404cce59cd442a58423c67f4260f0ca"
 },
 "nbformat": 3,
 "nbformat_minor": 0,
 "worksheets": [
  {
   "cells": [
    {
     "cell_type": "code",
     "collapsed": false,
     "input": [
      "import matplotlib.pyplot as plt\n",
      "import numpy as np\n",
      "\n",
      "%matplotlib inline"
     ],
     "language": "python",
     "metadata": {},
     "outputs": [],
     "prompt_number": 2
    },
    {
     "cell_type": "code",
     "collapsed": false,
     "input": [
      "# binding energies data order:\n",
      "# list of 3-SLN or 6-SLN:\n",
      "#    - WT\n",
      "#    - double mutant\n",
      "#    - single mutant Q226I\n",
      "#    - single mutant G228S\n",
      "\n",
      "sln3 = np.array([7.1, 5.4, 6.2, 6.4]) * -1\n",
      "sln6 = np.array([6.7, 7.2, 6.1, 6.3]) * -1\n",
      "idxs = np.array([1, 2, 3, 4])\n",
      "\n",
      "fig = plt.figure(figsize=(4, 2))\n",
      "ax = fig.add_subplot(111)\n",
      "\n",
      "width = 0.4\n",
      "\n",
      "ax.bar(idxs, sln3, width, color='blue')\n",
      "ax.bar(idxs + width, sln6, width, color='orange')\n",
      "ax.set_ylim(-8, -5)\n",
      "ax.xaxis.set_ticks(idxs + width)\n",
      "ax.xaxis.set_ticklabels(['WT', 'Q226I \\n G228S', 'Q226I', 'G228S'])\n",
      "ax.set_ylabel('Binding Affinity (kcal/mol)')\n",
      "\n",
      "plt.subplots_adjust(left=0.15, bottom=0.15, right=0.95, top=0.9)\n",
      "plt.savefig('Binding Affinities.pdf')"
     ],
     "language": "python",
     "metadata": {},
     "outputs": [
      {
       "metadata": {},
       "output_type": "display_data",
       "png": "[encoded data removed]",
       "text": [
        "<matplotlib.figure.Figure at 0x111005990>"
       ]
      }
     ],
     "prompt_number": 5
    },
    {
     "cell_type": "code",
     "collapsed": false,
     "input": [
      "R = 8.314 #gas constant \n",
      "T = 298 #Temperature usually assumed to be 298K = 25\u00baC\n",
      "\n",
      "sln3_kJ = sln3 * 4.18400 * 1000\n",
      "sln6_kJ = sln6 * 4.18400 * 1000 # 1 kcal/mol = 4.18400 kJ/mol\n",
      "\n",
      "sln3_kd = np.exp(sln3_kJ/(R * T))\n",
      "sln6_kd = np.exp(sln6_kJ/(R * T))\n",
      "\n",
      "sln3_ka = 1 / sln3_kd\n",
      "sln6_ka = 1 / sln6_kd\n",
      "\n",
      "fig = plt.figure(figsize=(4,2))\n",
      "ax = fig.add_subplot(111)\n",
      "\n",
      "width = 0.4\n",
      "ax.bar(idxs, sln3_ka, width, color='blue', label='3-SLN')\n",
      "ax.bar(idxs + width, sln6_ka, width, color='orange', label='6-SLN')\n",
      "ax.xaxis.set_ticks(idxs + width)\n",
      "ax.xaxis.set_ticklabels(['WT', 'Q226I \\n G228S', 'Q226I', 'G228S'])\n",
      "ax.set_ylabel(r'K$_a$ (10$^5$ M$^{-1}$)')\n",
      "ax.set_yscale('linear')\n",
      "ax.yaxis.set_ticklabels(['0', '0.5','1.0', '1.5', '2.0'])\n",
      "ax.set_title('Predicted Binding Affinities')\n",
      "ax.legend()\n",
      "plt.subplots_adjust(left=0.12, bottom=0.15, right=0.95, top=0.85)\n",
      "plt.savefig('Binding Affinities Ka.pdf')"
     ],
     "language": "python",
     "metadata": {},
     "outputs": [
      {
       "metadata": {},
       "output_type": "display_data",
       "png": "[encoded data removed]",
       "text": [
        "<matplotlib.figure.Figure at 0x112403a90>"
       ]
      }
     ],
     "prompt_number": 37
    },
    {
     "cell_type": "code",
     "collapsed": false,
     "input": [
      "sln6_ka"
     ],
     "language": "python",
     "metadata": {},
     "outputs": [
      {
       "metadata": {},
       "output_type": "pyout",
       "prompt_number": 24,
       "text": [
        "array([  82012.40298428,  190803.77601399,   29773.55021526,\n",
        "         41736.2662765 ])"
       ]
      }
     ],
     "prompt_number": 24
    },
    {
     "cell_type": "code",
     "collapsed": false,
     "input": [
      "sln3_ka"
     ],
     "language": "python",
     "metadata": {},
     "outputs": [
      {
       "metadata": {},
       "output_type": "pyout",
       "prompt_number": 38,
       "text": [
        "array([ 161155.62898456,    9129.35770503,   35251.05416553,\n",
        "         49414.57678182])"
       ]
      }
     ],
     "prompt_number": 38
    },
    {
     "cell_type": "code",
     "collapsed": false,
     "input": [
      "sln6_ka / sln3_ka"
     ],
     "language": "python",
     "metadata": {},
     "outputs": [
      {
       "metadata": {},
       "output_type": "pyout",
       "prompt_number": 39,
       "text": [
        "array([  0.50890188,  20.90002191,   0.84461446,   0.84461446])"
       ]
      }
     ],
     "prompt_number": 39
    },
    {
     "cell_type": "code",
     "collapsed": false,
     "input": [],
     "language": "python",
     "metadata": {},
     "outputs": []
    }
   ],
   "metadata": {}
  }
 ]
}